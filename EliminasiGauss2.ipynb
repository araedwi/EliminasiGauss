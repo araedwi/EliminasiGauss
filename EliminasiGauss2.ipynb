{
  "nbformat": 4,
  "nbformat_minor": 0,
  "metadata": {
    "colab": {
      "provenance": []
    },
    "kernelspec": {
      "name": "python3",
      "display_name": "Python 3"
    },
    "language_info": {
      "name": "python"
    }
  },
  "cells": [
    {
      "cell_type": "code",
      "execution_count": 8,
      "metadata": {
        "id": "tDBM_XNinoUX"
      },
      "outputs": [],
      "source": [
        "import numpy as np\n",
        "import sys"
      ]
    },
    {
      "cell_type": "code",
      "source": [
        "n = int(input('Jumlah variabel SPL '))\n"
      ],
      "metadata": {
        "colab": {
          "base_uri": "https://localhost:8080/"
        },
        "id": "Wfysq0JQn4_6",
        "outputId": "d8731123-b0df-4079-a675-5c2b19423f97"
      },
      "execution_count": null,
      "outputs": [
        {
          "name": "stdout",
          "output_type": "stream",
          "text": [
            "Jumlah variabel SPL 3\n"
          ]
        }
      ]
    },
    {
      "cell_type": "code",
      "source": [
        "a = np.zeros((n,n+1))\n",
        "a"
      ],
      "metadata": {
        "colab": {
          "base_uri": "https://localhost:8080/"
        },
        "collapsed": true,
        "id": "a2fJGwsYoIN_",
        "outputId": "60a6f56c-40dd-436f-edb4-300dce602a9e"
      },
      "execution_count": null,
      "outputs": [
        {
          "output_type": "execute_result",
          "data": {
            "text/plain": [
              "array([[0., 0., 0., 0.],\n",
              "       [0., 0., 0., 0.],\n",
              "       [0., 0., 0., 0.]])"
            ]
          },
          "metadata": {},
          "execution_count": 5
        }
      ]
    },
    {
      "cell_type": "code",
      "source": [
        "print('isikan koefisien variabel masing2 :')\n",
        "for i in range(n):\n",
        "  for j in range(n+1):\n",
        "    a[i][j]=float(input('a['+str(i)+']['+str(j)+']'))\n",
        "\n"
      ],
      "metadata": {
        "colab": {
          "base_uri": "https://localhost:8080/"
        },
        "id": "0VDyu0lgobc2",
        "outputId": "ddc692b8-e24a-4296-8b62-1ebac67f0e60"
      },
      "execution_count": null,
      "outputs": [
        {
          "name": "stdout",
          "output_type": "stream",
          "text": [
            "isikan koefisien variabel masing2 :\n",
            "a[0][0]1\n",
            "a[0][1]2\n",
            "a[0][2]3\n",
            "a[0][3]4\n",
            "a[1][0]4\n",
            "a[1][1]3\n",
            "a[1][2]2\n",
            "a[1][3]3\n",
            "a[2][0]2\n",
            "a[2][1]3\n",
            "a[2][2]3\n",
            "a[2][3]3\n"
          ]
        }
      ]
    },
    {
      "cell_type": "code",
      "source": [
        "print(a)"
      ],
      "metadata": {
        "colab": {
          "base_uri": "https://localhost:8080/"
        },
        "id": "abjOk31ipgga",
        "outputId": "a44a1358-9eeb-47ae-880b-9546a7cc3fe3"
      },
      "execution_count": null,
      "outputs": [
        {
          "output_type": "stream",
          "name": "stdout",
          "text": [
            "[[1. 2. 3. 4.]\n",
            " [4. 3. 2. 3.]\n",
            " [2. 3. 3. 3.]]\n"
          ]
        }
      ]
    },
    {
      "cell_type": "code",
      "source": [
        "for i in range(n):\n",
        "  if a[i][i]==0.0 :\n",
        "    sys.exit('pembagi 0')\n",
        "\n",
        "  for j in range(i+1,n):\n",
        "    rasio = a[j][i]/a[i][j]\n",
        "    for k in range(n+1):\n",
        "      a[j][k] = a[j][k] - rasio*a[i][k]\n"
      ],
      "metadata": {
        "id": "qb97RY0opkP6"
      },
      "execution_count": null,
      "outputs": []
    },
    {
      "cell_type": "code",
      "source": [
        "x"
      ],
      "metadata": {
        "id": "uQmy_5i7q0YF"
      },
      "execution_count": null,
      "outputs": []
    }
  ]
}